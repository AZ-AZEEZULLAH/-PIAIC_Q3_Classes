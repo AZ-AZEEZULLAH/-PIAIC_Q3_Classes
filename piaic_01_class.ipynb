{
  "nbformat": 4,
  "nbformat_minor": 0,
  "metadata": {
    "colab": {
      "provenance": [],
      "authorship_tag": "ABX9TyPFnfSpelGkmNOGLKLAMVqI",
      "include_colab_link": true
    },
    "kernelspec": {
      "name": "python3",
      "display_name": "Python 3"
    },
    "language_info": {
      "name": "python"
    }
  },
  "cells": [
    {
      "cell_type": "markdown",
      "metadata": {
        "id": "view-in-github",
        "colab_type": "text"
      },
      "source": [
        "<a href=\"https://colab.research.google.com/github/AZ-AZEEZULLAH/PIAIC_Q3_Classes/blob/main/piaic_01_class.ipynb\" target=\"_parent\"><img src=\"https://colab.research.google.com/assets/colab-badge.svg\" alt=\"Open In Colab\"/></a>"
      ]
    },
    {
      "cell_type": "markdown",
      "source": [
        "# Install open AI Agents (SDK) Software Development Kit\n"
      ],
      "metadata": {
        "id": "RlBwZFPfPu0X"
      }
    },
    {
      "cell_type": "code",
      "execution_count": null,
      "metadata": {
        "id": "NlgBOlRfBIHq",
        "colab": {
          "base_uri": "https://localhost:8080/"
        },
        "outputId": "bb97a670-ffaa-43c7-da92-023d941fa5ca"
      },
      "outputs": [
        {
          "output_type": "stream",
          "name": "stdout",
          "text": [
            "\u001b[?25l   \u001b[90m━━━━━━━━━━━━━━━━━━━━━━━━━━━━━━━━━━━━━━━━\u001b[0m \u001b[32m0.0/108.3 kB\u001b[0m \u001b[31m?\u001b[0m eta \u001b[36m-:--:--\u001b[0m\r\u001b[2K   \u001b[90m━━━━━━━━━━━━━━━━━━━━━━━━━━━━━━━━━━━━━━━━\u001b[0m \u001b[32m108.3/108.3 kB\u001b[0m \u001b[31m8.2 MB/s\u001b[0m eta \u001b[36m0:00:00\u001b[0m\n",
            "\u001b[?25h\u001b[?25l   \u001b[90m━━━━━━━━━━━━━━━━━━━━━━━━━━━━━━━━━━━━━━━━\u001b[0m \u001b[32m0.0/129.2 kB\u001b[0m \u001b[31m?\u001b[0m eta \u001b[36m-:--:--\u001b[0m\r\u001b[2K   \u001b[90m━━━━━━━━━━━━━━━━━━━━━━━━━━━━━━━━━━━━━━━━\u001b[0m \u001b[32m129.2/129.2 kB\u001b[0m \u001b[31m10.2 MB/s\u001b[0m eta \u001b[36m0:00:00\u001b[0m\n",
            "\u001b[?25h\u001b[?25l   \u001b[90m━━━━━━━━━━━━━━━━━━━━━━━━━━━━━━━━━━━━━━━━\u001b[0m \u001b[32m0.0/76.1 kB\u001b[0m \u001b[31m?\u001b[0m eta \u001b[36m-:--:--\u001b[0m\r\u001b[2K   \u001b[90m━━━━━━━━━━━━━━━━━━━━━━━━━━━━━━━━━━━━━━━━\u001b[0m \u001b[32m76.1/76.1 kB\u001b[0m \u001b[31m6.2 MB/s\u001b[0m eta \u001b[36m0:00:00\u001b[0m\n",
            "\u001b[?25h\u001b[?25l   \u001b[90m━━━━━━━━━━━━━━━━━━━━━━━━━━━━━━━━━━━━━━━━\u001b[0m \u001b[32m0.0/72.0 kB\u001b[0m \u001b[31m?\u001b[0m eta \u001b[36m-:--:--\u001b[0m\r\u001b[2K   \u001b[90m━━━━━━━━━━━━━━━━━━━━━━━━━━━━━━━━━━━━━━━━\u001b[0m \u001b[32m72.0/72.0 kB\u001b[0m \u001b[31m5.8 MB/s\u001b[0m eta \u001b[36m0:00:00\u001b[0m\n",
            "\u001b[?25h\u001b[?25l   \u001b[90m━━━━━━━━━━━━━━━━━━━━━━━━━━━━━━━━━━━━━━━━\u001b[0m \u001b[32m0.0/62.4 kB\u001b[0m \u001b[31m?\u001b[0m eta \u001b[36m-:--:--\u001b[0m\r\u001b[2K   \u001b[90m━━━━━━━━━━━━━━━━━━━━━━━━━━━━━━━━━━━━━━━━\u001b[0m \u001b[32m62.4/62.4 kB\u001b[0m \u001b[31m5.0 MB/s\u001b[0m eta \u001b[36m0:00:00\u001b[0m\n",
            "\u001b[?25h"
          ]
        }
      ],
      "source": [
        "!pip install -Uq openai-agents\n",
        "# !           --> This exclamation mark is used in Jupyter notebooks to run shell commands.\n",
        "# pip         --> The Python package installer.\n",
        "# install     --> Command to install a package.\n",
        "# -U          --> Short for --upgrade, which tells pip to upgrade the package to the latest version if it's already installed.\n",
        "# -q          --> Short for --quiet, which reduces the amount of output shown during installation.\n",
        "# openai-agents --> The name of the Python package you want to install (in this case, 'openai-agents').\n"
      ]
    },
    {
      "cell_type": "markdown",
      "source": [
        "Make your Jupyter Notebook Capable of running asynchronous functions"
      ],
      "metadata": {
        "id": "8M1O-p0zgCqP"
      }
    },
    {
      "cell_type": "code",
      "source": [
        "import nest_asyncio\n",
        "# This imports the 'nest_asyncio' module, which is used to patch Python's event loop behavior.\n",
        "\n",
        "nest_asyncio.apply()\n",
        "# This applies a patch that allows nested use of asyncio loops.\n",
        "# It's useful in environments like Jupyter notebooks, where an event loop may already be running.\n"
      ],
      "metadata": {
        "id": "781ziZw8BqDH"
      },
      "execution_count": null,
      "outputs": []
    },
    {
      "cell_type": "markdown",
      "source": [
        "Run Google Gemini with OPENAI- Agent (SDK)"
      ],
      "metadata": {
        "id": "qTpZGgM_yP_4"
      }
    },
    {
      "cell_type": "code",
      "source": [
        "# Importing the 'os' module which provides a way to interact with the operating system\n",
        "import os\n",
        "\n",
        "# Importing various classes from the 'agents' module\n",
        "# - Agent: likely represents an intelligent agent that performs tasks or makes decisions\n",
        "# - Runner: probably responsible for running or managing agents\n",
        "# - AsyncOpenAI: an asynchronous wrapper to interact with OpenAI's models\n",
        "# - OpenAIChatCompletionsModel: refers to a specific chat completion model from OpenAI (like GPT-4)\n",
        "from agents import Agent, Runner, AsyncOpenAI, OpenAIChatCompletionsModel\n",
        "\n",
        "# Importing RunConfig class from the 'agents.run' module\n",
        "# RunConfig is probably a configuration class used to specify parameters or settings\n",
        "# for how the agent should run\n",
        "from agents.run import RunConfig\n",
        "\n",
        "# Importing 'userdata' from 'google.colab'\n",
        "# In Google Colab, 'userdata' is used to securely access user-specific variables like API keys,\n",
        "# authentication tokens, etc., without hardcoding them into the script\n",
        "from google.colab import userdata\n"
      ],
      "metadata": {
        "id": "n4rlaErJCE1s"
      },
      "execution_count": null,
      "outputs": []
    },
    {
      "cell_type": "code",
      "source": [
        "# Fetching the Gemini API key securely from Google Colab's userdata storage\n",
        "# This avoids hardcoding sensitive information directly in your code\n",
        "gemini_api_key = userdata.get(\"GEMINI_API_KEY\")\n",
        "\n",
        "# Creating an asynchronous OpenAI-compatible client for the Gemini API\n",
        "# - api_key: your secret key to authenticate with the Gemini service\n",
        "# - base_url: customized to point to Google's Gemini (generative language) API endpoint\n",
        "external_client = AsyncOpenAI(\n",
        "    api_key=gemini_api_key,\n",
        "    base_url=\"https://generativelanguage.googleapis.com/v1beta/openai/\",\n",
        ")\n",
        "\n",
        "# Initializing a chat completion model wrapper\n",
        "# - model: the specific model to use, here it's \"gemini-2.0-flash\"\n",
        "# - openai_client: the async client defined above for communicating with the Gemini API\n",
        "model = OpenAIChatCompletionsModel(\n",
        "    model=\"gemini-2.0-flash\",\n",
        "    openai_client=external_client\n",
        ")\n",
        "\n",
        "# Creating a configuration for running the agent\n",
        "# - model: the chat model wrapper defined above\n",
        "# - model_provider: the client (used for API calls)\n",
        "# - tracing_disabled: disables logging/tracing for debugging or performance tracking\n",
        "config = RunConfig(\n",
        "    model=model,\n",
        "    model_provider=external_client,\n",
        "    tracing_disabled=True\n",
        ")\n"
      ],
      "metadata": {
        "id": "rY9r5iIMCkfz"
      },
      "execution_count": null,
      "outputs": []
    },
    {
      "cell_type": "markdown",
      "source": [
        "Hello World Code | Method one"
      ],
      "metadata": {
        "id": "2062nFPY09xq"
      }
    },
    {
      "cell_type": "code",
      "source": [
        "# Creating an agent instance\n",
        "# - name: just a label for the agent (\"Assistant\" here)\n",
        "# - instructions: initial system prompt that defines the agent's behavior\n",
        "# - model: the chat model (Gemini in this case) previously configured\n",
        "agent: Agent = Agent(\n",
        "    name=\"Assistant\",\n",
        "    instructions=\"You are a helpful assistant\",\n",
        "    model=model\n",
        ")\n",
        "\n",
        "# Running the agent synchronously with a prompt\n",
        "# - agent: the agent instance created above\n",
        "# - \"Hello, how are you.\": the user input prompt being sent to the agent\n",
        "# - run_config: the configuration that includes model, API client, etc.\n",
        "result = Runner.run_sync(agent, \"Hello, how are you.\", run_config=config)\n",
        "\n",
        "# Printing some information to the console\n",
        "print(\"\\nCALLING AGENT\\n\")\n",
        "\n",
        "# Outputting the final response (reply from the agent)\n",
        "print(result.final_output)\n"
      ],
      "metadata": {
        "colab": {
          "base_uri": "https://localhost:8080/"
        },
        "id": "Ha3BpwDFGQSo",
        "outputId": "6291e409-3c83-478f-ccd8-392d6b0217c2"
      },
      "execution_count": null,
      "outputs": [
        {
          "output_type": "stream",
          "name": "stdout",
          "text": [
            "\n",
            "CALLING AGENT\n",
            "\n",
            "I am doing well, thank you for asking! How are you today?\n",
            "\n"
          ]
        }
      ]
    },
    {
      "cell_type": "code",
      "source": [
        "agent: Agent = Agent(\n",
        "    name=\"Assistant\",\n",
        "    instructions=\"You are a helpful assistant\",\n",
        "    model=model\n",
        ")\n",
        "\n",
        "result = Runner.run_sync(agent, \"Hello,   Azeezullah & Your name ?.\", run_config=config)\n",
        "\n",
        "print(\"\\nCALLING AGENT\\n\")\n",
        "\n",
        "\n",
        "print(result.final_output)\n",
        "print(\"\\nThanks\\n\")"
      ],
      "metadata": {
        "colab": {
          "base_uri": "https://localhost:8080/"
        },
        "id": "UHPlNcXd2De2",
        "outputId": "5d764dba-a07d-4200-d9d3-d452189d3ea0"
      },
      "execution_count": null,
      "outputs": [
        {
          "output_type": "stream",
          "name": "stdout",
          "text": [
            "\n",
            "CALLING AGENT\n",
            "\n",
            "Hello! I am a large language model, and I don't have a name in the way a person does. You can just call me Assistant. How can I help you today, Azeezullah?\n",
            "\n",
            "\n",
            "Thanks\n",
            "\n"
          ]
        }
      ]
    },
    {
      "cell_type": "markdown",
      "source": [
        "Hello World Code | method two"
      ],
      "metadata": {
        "id": "-7bNUNCc3Kao"
      }
    },
    {
      "cell_type": "code",
      "source": [
        "# Importing asyncio, a standard Python library for running asynchronous code\n",
        "import asyncio\n",
        "\n",
        "# Importing Agent and Runner classes from the agents module\n",
        "from agents import Agent, Runner\n",
        "\n",
        "# Defining the main async function where all logic will be executed\n",
        "async def main():\n",
        "    # Creating an agent instance\n",
        "    # - name: the name or label of the assistant\n",
        "    # - instructions: defines the agent's personality and behavior\n",
        "    # - model: the AI model you want to use (Gemini here, passed from earlier setup)\n",
        "    agent = Agent(\n",
        "        name=\"Assistant\",\n",
        "        instructions=\"You are a helpful assistant\",\n",
        "        model=model\n",
        "    )\n",
        "\n",
        "    # Running the agent asynchronously with a prompt using the run_config\n",
        "    # - agent: the one we just created\n",
        "    # - \"Hello, how are you.\": the input prompt\n",
        "    # - config: includes model and API setup\n",
        "    result = await Runner.run(agent, \"Hello, how are you.\", run_config=config)\n",
        "\n",
        "    # Printing the final response from the agent\n",
        "    print(result.final_output)\n",
        "\n",
        "# This checks if the script is being run directly (not imported as a module)\n",
        "# If yes, it runs the async main function using asyncio\n",
        "if __name__ == \"__main__\":\n",
        "    asyncio.run(main())\n"
      ],
      "metadata": {
        "colab": {
          "base_uri": "https://localhost:8080/"
        },
        "id": "TQKrGe4N3QTY",
        "outputId": "cede1af4-bfab-4d38-dee9-d52c8585f554"
      },
      "execution_count": null,
      "outputs": [
        {
          "output_type": "stream",
          "name": "stdout",
          "text": [
            "Hello! I am doing well, thank you for asking. How can I help you today?\n",
            "\n"
          ]
        }
      ]
    },
    {
      "cell_type": "code",
      "source": [
        "# Importing asyncio, a standard Python library for running asynchronous code\n",
        "import asyncio\n",
        "\n",
        "# Importing Agent and Runner classes from the agents module\n",
        "from agents import Agent, Runner\n",
        "\n",
        "# Defining the main async function where all logic will be executed\n",
        "async def main():\n",
        "    # Creating an agent instance\n",
        "    # - name: the name or label of the assistant\n",
        "    # - instructions: defines the agent's personality and behavior\n",
        "    # - model: the AI model you want to use (Gemini here, passed from earlier setup)\n",
        "    agent = Agent(\n",
        "        name=\"Assistant\",\n",
        "        instructions=\"You are a helpful assistant\",\n",
        "        model=model\n",
        "    )\n",
        "\n",
        "    # Running the agent asynchronously with a prompt using the run_config\n",
        "    # - agent: the one we just created\n",
        "    # - \"Hello, how are you.\": the input prompt\n",
        "    # - config: includes model and API setup\n",
        "    result = await Runner.run(agent, \"What is SDK.\", run_config=config)\n",
        "\n",
        "    # Printing the final response from the agent\n",
        "    print(result.final_output)\n",
        "\n",
        "# This checks if the script is being run directly (not imported as a module)\n",
        "# If yes, it runs the async main function using asyncio\n",
        "if __name__ == \"__main__\":\n",
        "    asyncio.run(main())\n"
      ],
      "metadata": {
        "colab": {
          "base_uri": "https://localhost:8080/"
        },
        "id": "sUSGBdkn6hrx",
        "outputId": "4c2c2491-956e-4a9e-a36d-5d8df84735d0"
      },
      "execution_count": null,
      "outputs": [
        {
          "output_type": "stream",
          "name": "stdout",
          "text": [
            "SDK stands for **Software Development Kit**.\n",
            "\n",
            "Think of it as a toolbox for developers. It's a collection of software development tools in one installable package. These tools are used to create applications for a specific platform or operating system.\n",
            "\n",
            "Here's a breakdown of what's usually included in an SDK:\n",
            "\n",
            "*   **Libraries:** Pre-written code that developers can use to perform common tasks, saving them time and effort.  For example, a library might handle network communication or user interface elements.\n",
            "*   **Documentation:** Instructions and guides on how to use the various components of the SDK. This is crucial for understanding how to integrate the SDK into your project.\n",
            "*   **Code Samples:** Examples of how to use the SDK's features.  These can be very helpful for getting started and understanding best practices.\n",
            "*   **Debuggers:** Tools for finding and fixing errors in the code.\n",
            "*   **Compilers:** Tools that translate human-readable code into machine-executable code.  (Often part of a larger IDE, but essential).\n",
            "*   **APIs (Application Programming Interfaces):**  Definitions of how different software components should interact.  SDKs heavily rely on APIs to provide access to the platform's functionality.\n",
            "*   **Emulators/Simulators:**  Software that mimics the target environment (e.g., a specific mobile phone model or operating system version).  This allows developers to test their apps without needing the actual hardware.\n",
            "*   **Build Tools:** Utilities to package and prepare the application for distribution.\n",
            "\n",
            "**In short, an SDK gives developers everything they need to write and test applications for a particular platform.**\n",
            "\n",
            "**Examples of SDKs:**\n",
            "\n",
            "*   **Android SDK:** Used to develop apps for Android devices.\n",
            "*   **iOS SDK:** Used to develop apps for iPhones and iPads.\n",
            "*   **Windows SDK:** Used to develop apps for Windows operating systems.\n",
            "*   **Java Development Kit (JDK):**  Used to develop Java applications.\n",
            "*   **Game Development SDKs (e.g., Unity SDK, Unreal Engine SDK):** Used to create games.\n",
            "*   **Cloud Service SDKs (e.g., AWS SDK, Azure SDK):** Used to access and integrate with cloud services.\n",
            "\n",
            "The specific contents of an SDK can vary depending on the target platform and the purpose of the SDK, but the general goal is always the same: to simplify the development process and provide developers with the necessary tools to build high-quality applications.\n",
            "\n"
          ]
        }
      ]
    }
  ]
}